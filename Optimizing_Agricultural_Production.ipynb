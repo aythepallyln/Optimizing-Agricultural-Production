{
  "cells": [
    {
      "cell_type": "markdown",
      "source": [
        "# Optimizing Agricultural Production\n",
        "\n",
        "The Optimizing Agricultural Production is a cutting-edge solution aimed at enhancing crop yield and productivity by leveraging data-driven insights. Through the use of advanced machine learning algorithms, this project helps\n",
        "farmers make informed decisions on various aspects of agriculture such as sowing time, irrigation, fertilization and pest control.\n",
        "\n",
        "Steps to do:\n",
        "\n",
        "• Exploratory Data Analysis (EDA), Data Visualization, Preparing the data for model building.\n",
        "\n",
        "• Performed Clustering analysis using KMeans algorithm. Building Liner Regression model. \n"
      ],
      "metadata": {
        "id": "IqEzPKr7VIIe"
      }
    },
    {
      "cell_type": "markdown",
      "metadata": {
        "id": "gAVQjnfJ8xGC"
      },
      "source": [
        "### Importing the Libraries"
      ]
    },
    {
      "cell_type": "code",
      "execution_count": null,
      "metadata": {
        "id": "eUTjisDl8xGI"
      },
      "outputs": [],
      "source": [
        "# for manipulations\n",
        "import numpy as np\n",
        "import pandas as pd\n",
        "\n",
        "# for data visualizations\n",
        "import matplotlib.pyplot as plt\n",
        "import seaborn as sns\n",
        "plt.style.use('fivethirtyeight')\n",
        "\n",
        "# for interactivity\n",
        "import ipywidgets\n",
        "from ipywidgets import interact"
      ]
    },
    {
      "cell_type": "markdown",
      "metadata": {
        "id": "S3eaa6uw8xGL"
      },
      "source": [
        "### Reading the Dataset"
      ]
    },
    {
      "cell_type": "code",
      "execution_count": null,
      "metadata": {
        "colab": {
          "base_uri": "https://localhost:8080/"
        },
        "id": "zOnXjz6F8xGM",
        "outputId": "c98349f9-9799-47ca-8c41-b188c584aded"
      },
      "outputs": [
        {
          "output_type": "stream",
          "name": "stdout",
          "text": [
            "Shape of the Dataset : (2200, 8)\n"
          ]
        }
      ],
      "source": [
        "# lets read the dataset\n",
        "data = pd.read_csv('data.csv')\n",
        "\n",
        "# lets check teh shape of the dataset\n",
        "print(\"Shape of the Dataset :\", data.shape)"
      ]
    },
    {
      "cell_type": "code",
      "execution_count": null,
      "metadata": {
        "colab": {
          "base_uri": "https://localhost:8080/",
          "height": 206
        },
        "id": "P0WSvKuJ8xGO",
        "outputId": "5a08445b-bdd1-4287-ae4d-d5cd939b8418"
      },
      "outputs": [
        {
          "output_type": "execute_result",
          "data": {
            "text/plain": [
              "    N   P   K  temperature   humidity        ph    rainfall label\n",
              "0  90  42  43    20.879744  82.002744  6.502985  202.935536  rice\n",
              "1  85  58  41    21.770462  80.319644  7.038096  226.655537  rice\n",
              "2  60  55  44    23.004459  82.320763  7.840207  263.964248  rice\n",
              "3  74  35  40    26.491096  80.158363  6.980401  242.864034  rice\n",
              "4  78  42  42    20.130175  81.604873  7.628473  262.717340  rice"
            ],
            "text/html": [
              "\n",
              "  <div id=\"df-9993061e-5227-425e-8bf4-45cd0db84712\">\n",
              "    <div class=\"colab-df-container\">\n",
              "      <div>\n",
              "<style scoped>\n",
              "    .dataframe tbody tr th:only-of-type {\n",
              "        vertical-align: middle;\n",
              "    }\n",
              "\n",
              "    .dataframe tbody tr th {\n",
              "        vertical-align: top;\n",
              "    }\n",
              "\n",
              "    .dataframe thead th {\n",
              "        text-align: right;\n",
              "    }\n",
              "</style>\n",
              "<table border=\"1\" class=\"dataframe\">\n",
              "  <thead>\n",
              "    <tr style=\"text-align: right;\">\n",
              "      <th></th>\n",
              "      <th>N</th>\n",
              "      <th>P</th>\n",
              "      <th>K</th>\n",
              "      <th>temperature</th>\n",
              "      <th>humidity</th>\n",
              "      <th>ph</th>\n",
              "      <th>rainfall</th>\n",
              "      <th>label</th>\n",
              "    </tr>\n",
              "  </thead>\n",
              "  <tbody>\n",
              "    <tr>\n",
              "      <th>0</th>\n",
              "      <td>90</td>\n",
              "      <td>42</td>\n",
              "      <td>43</td>\n",
              "      <td>20.879744</td>\n",
              "      <td>82.002744</td>\n",
              "      <td>6.502985</td>\n",
              "      <td>202.935536</td>\n",
              "      <td>rice</td>\n",
              "    </tr>\n",
              "    <tr>\n",
              "      <th>1</th>\n",
              "      <td>85</td>\n",
              "      <td>58</td>\n",
              "      <td>41</td>\n",
              "      <td>21.770462</td>\n",
              "      <td>80.319644</td>\n",
              "      <td>7.038096</td>\n",
              "      <td>226.655537</td>\n",
              "      <td>rice</td>\n",
              "    </tr>\n",
              "    <tr>\n",
              "      <th>2</th>\n",
              "      <td>60</td>\n",
              "      <td>55</td>\n",
              "      <td>44</td>\n",
              "      <td>23.004459</td>\n",
              "      <td>82.320763</td>\n",
              "      <td>7.840207</td>\n",
              "      <td>263.964248</td>\n",
              "      <td>rice</td>\n",
              "    </tr>\n",
              "    <tr>\n",
              "      <th>3</th>\n",
              "      <td>74</td>\n",
              "      <td>35</td>\n",
              "      <td>40</td>\n",
              "      <td>26.491096</td>\n",
              "      <td>80.158363</td>\n",
              "      <td>6.980401</td>\n",
              "      <td>242.864034</td>\n",
              "      <td>rice</td>\n",
              "    </tr>\n",
              "    <tr>\n",
              "      <th>4</th>\n",
              "      <td>78</td>\n",
              "      <td>42</td>\n",
              "      <td>42</td>\n",
              "      <td>20.130175</td>\n",
              "      <td>81.604873</td>\n",
              "      <td>7.628473</td>\n",
              "      <td>262.717340</td>\n",
              "      <td>rice</td>\n",
              "    </tr>\n",
              "  </tbody>\n",
              "</table>\n",
              "</div>\n",
              "      <button class=\"colab-df-convert\" onclick=\"convertToInteractive('df-9993061e-5227-425e-8bf4-45cd0db84712')\"\n",
              "              title=\"Convert this dataframe to an interactive table.\"\n",
              "              style=\"display:none;\">\n",
              "        \n",
              "  <svg xmlns=\"http://www.w3.org/2000/svg\" height=\"24px\"viewBox=\"0 0 24 24\"\n",
              "       width=\"24px\">\n",
              "    <path d=\"M0 0h24v24H0V0z\" fill=\"none\"/>\n",
              "    <path d=\"M18.56 5.44l.94 2.06.94-2.06 2.06-.94-2.06-.94-.94-2.06-.94 2.06-2.06.94zm-11 1L8.5 8.5l.94-2.06 2.06-.94-2.06-.94L8.5 2.5l-.94 2.06-2.06.94zm10 10l.94 2.06.94-2.06 2.06-.94-2.06-.94-.94-2.06-.94 2.06-2.06.94z\"/><path d=\"M17.41 7.96l-1.37-1.37c-.4-.4-.92-.59-1.43-.59-.52 0-1.04.2-1.43.59L10.3 9.45l-7.72 7.72c-.78.78-.78 2.05 0 2.83L4 21.41c.39.39.9.59 1.41.59.51 0 1.02-.2 1.41-.59l7.78-7.78 2.81-2.81c.8-.78.8-2.07 0-2.86zM5.41 20L4 18.59l7.72-7.72 1.47 1.35L5.41 20z\"/>\n",
              "  </svg>\n",
              "      </button>\n",
              "      \n",
              "  <style>\n",
              "    .colab-df-container {\n",
              "      display:flex;\n",
              "      flex-wrap:wrap;\n",
              "      gap: 12px;\n",
              "    }\n",
              "\n",
              "    .colab-df-convert {\n",
              "      background-color: #E8F0FE;\n",
              "      border: none;\n",
              "      border-radius: 50%;\n",
              "      cursor: pointer;\n",
              "      display: none;\n",
              "      fill: #1967D2;\n",
              "      height: 32px;\n",
              "      padding: 0 0 0 0;\n",
              "      width: 32px;\n",
              "    }\n",
              "\n",
              "    .colab-df-convert:hover {\n",
              "      background-color: #E2EBFA;\n",
              "      box-shadow: 0px 1px 2px rgba(60, 64, 67, 0.3), 0px 1px 3px 1px rgba(60, 64, 67, 0.15);\n",
              "      fill: #174EA6;\n",
              "    }\n",
              "\n",
              "    [theme=dark] .colab-df-convert {\n",
              "      background-color: #3B4455;\n",
              "      fill: #D2E3FC;\n",
              "    }\n",
              "\n",
              "    [theme=dark] .colab-df-convert:hover {\n",
              "      background-color: #434B5C;\n",
              "      box-shadow: 0px 1px 3px 1px rgba(0, 0, 0, 0.15);\n",
              "      filter: drop-shadow(0px 1px 2px rgba(0, 0, 0, 0.3));\n",
              "      fill: #FFFFFF;\n",
              "    }\n",
              "  </style>\n",
              "\n",
              "      <script>\n",
              "        const buttonEl =\n",
              "          document.querySelector('#df-9993061e-5227-425e-8bf4-45cd0db84712 button.colab-df-convert');\n",
              "        buttonEl.style.display =\n",
              "          google.colab.kernel.accessAllowed ? 'block' : 'none';\n",
              "\n",
              "        async function convertToInteractive(key) {\n",
              "          const element = document.querySelector('#df-9993061e-5227-425e-8bf4-45cd0db84712');\n",
              "          const dataTable =\n",
              "            await google.colab.kernel.invokeFunction('convertToInteractive',\n",
              "                                                     [key], {});\n",
              "          if (!dataTable) return;\n",
              "\n",
              "          const docLinkHtml = 'Like what you see? Visit the ' +\n",
              "            '<a target=\"_blank\" href=https://colab.research.google.com/notebooks/data_table.ipynb>data table notebook</a>'\n",
              "            + ' to learn more about interactive tables.';\n",
              "          element.innerHTML = '';\n",
              "          dataTable['output_type'] = 'display_data';\n",
              "          await google.colab.output.renderOutput(dataTable, element);\n",
              "          const docLink = document.createElement('div');\n",
              "          docLink.innerHTML = docLinkHtml;\n",
              "          element.appendChild(docLink);\n",
              "        }\n",
              "      </script>\n",
              "    </div>\n",
              "  </div>\n",
              "  "
            ]
          },
          "metadata": {},
          "execution_count": 3
        }
      ],
      "source": [
        "# lets check the head of the dataset\n",
        "data.head()"
      ]
    },
    {
      "cell_type": "code",
      "source": [
        "data.isnull().sum()"
      ],
      "metadata": {
        "colab": {
          "base_uri": "https://localhost:8080/"
        },
        "id": "Ej1jhiGo-2rI",
        "outputId": "cddee826-3efe-4fec-eccb-cbf68d8cd3ff"
      },
      "execution_count": null,
      "outputs": [
        {
          "output_type": "execute_result",
          "data": {
            "text/plain": [
              "N              0\n",
              "P              0\n",
              "K              0\n",
              "temperature    0\n",
              "humidity       0\n",
              "ph             0\n",
              "rainfall       0\n",
              "label          0\n",
              "dtype: int64"
            ]
          },
          "metadata": {},
          "execution_count": 4
        }
      ]
    },
    {
      "cell_type": "code",
      "execution_count": null,
      "metadata": {
        "colab": {
          "base_uri": "https://localhost:8080/"
        },
        "id": "fS-6vUXZ8xGQ",
        "outputId": "fafcca3e-734b-4ba4-bd7c-8d8cdd93324c"
      },
      "outputs": [
        {
          "output_type": "execute_result",
          "data": {
            "text/plain": [
              "rice           100\n",
              "maize          100\n",
              "jute           100\n",
              "cotton         100\n",
              "coconut        100\n",
              "papaya         100\n",
              "orange         100\n",
              "apple          100\n",
              "muskmelon      100\n",
              "watermelon     100\n",
              "grapes         100\n",
              "mango          100\n",
              "banana         100\n",
              "pomegranate    100\n",
              "lentil         100\n",
              "blackgram      100\n",
              "mungbean       100\n",
              "mothbeans      100\n",
              "pigeonpeas     100\n",
              "kidneybeans    100\n",
              "chickpea       100\n",
              "coffee         100\n",
              "Name: label, dtype: int64"
            ]
          },
          "metadata": {},
          "execution_count": 5
        }
      ],
      "source": [
        "# lets check the Crops present in this Dataset\n",
        "data['label'].value_counts()"
      ]
    },
    {
      "cell_type": "markdown",
      "metadata": {
        "id": "DgjZMXEC8xGQ"
      },
      "source": [
        "### Descriptive Statistics"
      ]
    },
    {
      "cell_type": "code",
      "execution_count": null,
      "metadata": {
        "colab": {
          "base_uri": "https://localhost:8080/"
        },
        "id": "LZtIoAbB8xGR",
        "outputId": "eae83fe3-02e7-4d5f-a5f3-1f6f7ff92e88"
      },
      "outputs": [
        {
          "output_type": "stream",
          "name": "stdout",
          "text": [
            "Average Ratio of Nitrogen in the Soil : 50.55\n",
            "Average Ratio of Phosphorous in the Soil : 53.36\n",
            "Average Ratio of Potassium in the Soil : 48.15\n",
            "Average Tempature in Celsius : 25.62\n",
            "Average Relative Humidity in % : 71.48\n",
            "Average PH Value of the soil : 6.47\n",
            "Average Rainfall in mm : 103.46\n"
          ]
        }
      ],
      "source": [
        "# lets check the Summary for all the crops\n",
        "\n",
        "print(\"Average Ratio of Nitrogen in the Soil : {0:.2f}\".format(data['N'].mean()))\n",
        "print(\"Average Ratio of Phosphorous in the Soil : {0:.2f}\".format(data['P'].mean()))\n",
        "print(\"Average Ratio of Potassium in the Soil : {0:.2f}\".format(data['K'].mean()))\n",
        "print(\"Average Tempature in Celsius : {0:.2f}\".format(data['temperature'].mean()))\n",
        "print(\"Average Relative Humidity in % : {0:.2f}\".format(data['humidity'].mean()))\n",
        "print(\"Average PH Value of the soil : {0:.2f}\".format(data['ph'].mean()))\n",
        "print(\"Average Rainfall in mm : {0:.2f}\".format(data['rainfall'].mean()))"
      ]
    },
    {
      "cell_type": "code",
      "source": [
        "data['label'].unique()"
      ],
      "metadata": {
        "colab": {
          "base_uri": "https://localhost:8080/"
        },
        "id": "xXJe-wMQ_kzq",
        "outputId": "80982a50-87a9-4e2a-b83b-044dc43108a5"
      },
      "execution_count": null,
      "outputs": [
        {
          "output_type": "execute_result",
          "data": {
            "text/plain": [
              "array(['rice', 'maize', 'chickpea', 'kidneybeans', 'pigeonpeas',\n",
              "       'mothbeans', 'mungbean', 'blackgram', 'lentil', 'pomegranate',\n",
              "       'banana', 'mango', 'grapes', 'watermelon', 'muskmelon', 'apple',\n",
              "       'orange', 'papaya', 'coconut', 'cotton', 'jute', 'coffee'],\n",
              "      dtype=object)"
            ]
          },
          "metadata": {},
          "execution_count": 11
        }
      ]
    },
    {
      "cell_type": "code",
      "execution_count": null,
      "metadata": {
        "colab": {
          "base_uri": "https://localhost:8080/",
          "height": 657,
          "referenced_widgets": [
            "22c85d3b8c7b4575a398ca32178018cf",
            "7e7df85532ef4fa096ac48613d823bc5",
            "395aa2f7035a4620838ae91307e1f8e5",
            "d3b3f51586034dd2bb550693cdab9750",
            "913dbd49de8b444c9553d3843a816d98",
            "8fabb2aed32348c796497ee5129abd6f",
            "15d8f9a37193410baa420dcfa0c6609e"
          ]
        },
        "id": "1aB9Vatv8xGS",
        "outputId": "f2edc750-de80-4da6-89f0-4ef7f2f1fe3d"
      },
      "outputs": [
        {
          "output_type": "display_data",
          "data": {
            "text/plain": [
              "interactive(children=(Dropdown(description='crops', options=('rice', 'maize', 'chickpea', 'kidneybeans', 'pige…"
            ],
            "application/vnd.jupyter.widget-view+json": {
              "version_major": 2,
              "version_minor": 0,
              "model_id": "22c85d3b8c7b4575a398ca32178018cf"
            }
          },
          "metadata": {}
        }
      ],
      "source": [
        "# lets check the Summary Statistics for each of the Crops\n",
        "\n",
        "@interact # decorator - its like a function, its responsibility is to add extra functionalities to functions\n",
        "def summary(crops = data['label'].unique()):\n",
        "    x = data[data['label'] == crops]\n",
        "    print(\"---------------------------------------------\")\n",
        "    print(\"Statistics for Nitrogen\")\n",
        "    print(\"Minimum Nitrigen required :\", x['N'].min())\n",
        "    print(\"Average Nitrogen required :\", x['N'].mean())\n",
        "    print(\"Maximum Nitrogen required :\", x['N'].max()) \n",
        "    print(\"---------------------------------------------\")\n",
        "    print(\"Statistics for Phosphorous\")\n",
        "    print(\"Minimum Phosphorous required :\", x['P'].min())\n",
        "    print(\"Average Phosphorous required :\", x['P'].mean())\n",
        "    print(\"Maximum Phosphorous required :\", x['P'].max()) \n",
        "    print(\"---------------------------------------------\")\n",
        "    print(\"Statistics for Potassium\")\n",
        "    print(\"Minimum Potassium required :\", x['K'].min())\n",
        "    print(\"Average Potassium required :\", x['K'].mean())\n",
        "    print(\"Maximum Potassium required :\", x['K'].max()) \n",
        "    print(\"---------------------------------------------\")\n",
        "    print(\"Statistics for Temperature\")\n",
        "    print(\"Minimum Temperature required : {0:.2f}\".format(x['temperature'].min()))\n",
        "    print(\"Average Temperature required : {0:.2f}\".format(x['temperature'].mean()))\n",
        "    print(\"Maximum Temperature required : {0:.2f}\".format(x['temperature'].max()))\n",
        "    print(\"---------------------------------------------\")\n",
        "    print(\"Statistics for Humidity\")\n",
        "    print(\"Minimum Humidity required : {0:.2f}\".format(x['humidity'].min()))\n",
        "    print(\"Average Humidity required : {0:.2f}\".format(x['humidity'].mean()))\n",
        "    print(\"Maximum Humidity required : {0:.2f}\".format(x['humidity'].max()))\n",
        "    print(\"---------------------------------------------\")\n",
        "    print(\"Statistics for PH\")\n",
        "    print(\"Minimum PH required : {0:.2f}\".format(x['ph'].min()))\n",
        "    print(\"Average PH required : {0:.2f}\".format(x['ph'].mean()))\n",
        "    print(\"Maximum PH required : {0:.2f}\".format(x['ph'].max()))\n",
        "    print(\"---------------------------------------------\")\n",
        "    print(\"Statistics for Rainfall\")\n",
        "    print(\"Minimum Rainfall required : {0:.2f}\".format(x['rainfall'].min()))\n",
        "    print(\"Average Rainfall required : {0:.2f}\".format(x['rainfall'].mean()))\n",
        "    print(\"Maximum Rainfall required : {0:.2f}\".format(x['rainfall'].max()))"
      ]
    },
    {
      "cell_type": "code",
      "source": [
        "data[(data['label'] == 'rice')]['N'].mean()"
      ],
      "metadata": {
        "colab": {
          "base_uri": "https://localhost:8080/"
        },
        "id": "tkKUG7VeBV7Z",
        "outputId": "ee8b8276-c035-4296-f30a-51c9ae622453"
      },
      "execution_count": null,
      "outputs": [
        {
          "output_type": "execute_result",
          "data": {
            "text/plain": [
              "79.89"
            ]
          },
          "metadata": {},
          "execution_count": 18
        }
      ]
    },
    {
      "cell_type": "code",
      "execution_count": null,
      "metadata": {
        "colab": {
          "base_uri": "https://localhost:8080/",
          "height": 466,
          "referenced_widgets": [
            "5acdbae975ba47ea9999a6834a5aba00",
            "e7417c5625c2465ba02414abd68b02f8",
            "4eedf631e96c416f9264ab48f958b781",
            "c2349f031ed541b198881f0437c8446d",
            "1bd182db47a14514b6b2d00a7f2d937a",
            "4cfb6886b2db490d954a89102f0e6aa3",
            "838015f7981146a79350fffdf6d08876"
          ]
        },
        "id": "x0Z5Te9Q8xGU",
        "outputId": "7f27a4cf-ad22-44a4-bae7-75c680658aaa"
      },
      "outputs": [
        {
          "output_type": "display_data",
          "data": {
            "text/plain": [
              "interactive(children=(Dropdown(description='conditions', options=('N', 'P', 'K', 'temperature', 'ph', 'humidit…"
            ],
            "application/vnd.jupyter.widget-view+json": {
              "version_major": 2,
              "version_minor": 0,
              "model_id": "5acdbae975ba47ea9999a6834a5aba00"
            }
          },
          "metadata": {}
        }
      ],
      "source": [
        "## Lets compare the Average Requirement for each crops with average conditions\n",
        "\n",
        "@interact\n",
        "def compare(conditions = ['N','P','K','temperature','ph','humidity','rainfall']):\n",
        "    print(\"Average Value for\", conditions,\"is {0:.2f}\".format(data[conditions].mean()))\n",
        "    print(\"----------------------------------------------\")\n",
        "    # print(\"Rice : {0:.2f}\".format(data[(data['label'] == 'rice')][conditions].mean()))\n",
        "    print(f\"Rice : {data[(data['label'] == 'rice')][conditions].mean()}\")\n",
        "    print(\"Black Grams : {0:.2f}\".format(data[data['label'] == 'blackgram'][conditions].mean()))\n",
        "    print(\"Banana : {0:.2f}\".format(data[(data['label'] == 'banana')][conditions].mean()))\n",
        "    print(\"Jute : {0:.2f}\".format(data[data['label'] == 'jute'][conditions].mean()))\n",
        "    print(\"Coconut : {0:.2f}\".format(data[(data['label'] == 'coconut')][conditions].mean()))\n",
        "    print(\"Apple : {0:.2f}\".format(data[data['label'] == 'apple'][conditions].mean()))\n",
        "    print(\"Papaya : {0:.2f}\".format(data[(data['label'] == 'papaya')][conditions].mean()))\n",
        "    print(\"Muskmelon : {0:.2f}\".format(data[data['label'] == 'muskmelon'][conditions].mean()))\n",
        "    print(\"Grapes : {0:.2f}\".format(data[(data['label'] == 'grapes')][conditions].mean()))\n",
        "    print(\"Watermelon : {0:.2f}\".format(data[data['label'] == 'watermelon'][conditions].mean()))\n",
        "    print(\"Kidney Beans: {0:.2f}\".format(data[(data['label'] == 'kidneybeans')][conditions].mean()))\n",
        "    print(\"Mung Beans : {0:.2f}\".format(data[data['label'] == 'mungbean'][conditions].mean()))\n",
        "    print(\"Oranges : {0:.2f}\".format(data[(data['label'] == 'orange')][conditions].mean()))\n",
        "    print(\"Chick Peas : {0:.2f}\".format(data[data['label'] == 'chickpea'][conditions].mean()))\n",
        "    print(\"Lentils : {0:.2f}\".format(data[(data['label'] == 'lentil')][conditions].mean()))\n",
        "    print(\"Cotton : {0:.2f}\".format(data[data['label'] == 'cotton'][conditions].mean()))\n",
        "    print(\"Maize : {0:.2f}\".format(data[(data['label'] == 'maize')][conditions].mean()))\n",
        "    print(\"Moth Beans : {0:.2f}\".format(data[data['label'] == 'mothbeans'][conditions].mean()))\n",
        "    print(\"Pigeon Peas : {0:.2f}\".format(data[(data['label'] == 'pigeonpeas')][conditions].mean()))\n",
        "    print(\"Mango : {0:.2f}\".format(data[data['label'] == 'mango'][conditions].mean()))\n",
        "    print(\"Pomegranate : {0:.2f}\".format(data[(data['label'] == 'pomegranate')][conditions].mean()))\n",
        "    print(\"Coffee : {0:.2f}\".format(data[data['label'] == 'coffee'][conditions].mean()))"
      ]
    },
    {
      "cell_type": "code",
      "source": [
        "# What is average rainfall of N > mean of N \n",
        "\n",
        "data[data['N'] > data['N'].mean()]['rainfall'].mean()"
      ],
      "metadata": {
        "colab": {
          "base_uri": "https://localhost:8080/"
        },
        "id": "KXVMdF6vB80E",
        "outputId": "18710917-cf73-4ce8-9c01-96eb5f55af4b"
      },
      "execution_count": null,
      "outputs": [
        {
          "output_type": "execute_result",
          "data": {
            "text/plain": [
              "112.71798345402671"
            ]
          },
          "metadata": {},
          "execution_count": 27
        }
      ]
    },
    {
      "cell_type": "code",
      "execution_count": null,
      "metadata": {
        "colab": {
          "base_uri": "https://localhost:8080/",
          "height": 205,
          "referenced_widgets": [
            "e56c111ba5fe4228a63b37615a508891",
            "dfd81e83008640e4bb416a979d56de34",
            "0e823582ccea48abb41117a945c735bd",
            "8e5dd106ea5a4662ab277e8e7b4e5df4",
            "82af4e39996841ceaa08f07f185e6eef",
            "7b0d38c955394c38ab6a4ff9f052f375",
            "e6852212ed1541478288d249b095d292"
          ]
        },
        "id": "s2Vs2tyq8xGV",
        "outputId": "7ae0bb68-4772-4469-9648-b242acaab411"
      },
      "outputs": [
        {
          "output_type": "display_data",
          "data": {
            "text/plain": [
              "interactive(children=(Dropdown(description='conditions', options=('N', 'P', 'K', 'temperature', 'ph', 'humidit…"
            ],
            "application/vnd.jupyter.widget-view+json": {
              "version_major": 2,
              "version_minor": 0,
              "model_id": "e56c111ba5fe4228a63b37615a508891"
            }
          },
          "metadata": {}
        }
      ],
      "source": [
        "# lets make this funtion more Intuitive\n",
        "\n",
        "@interact\n",
        "def compare(conditions = ['N','P','K','temperature','ph','humidity','rainfall']):\n",
        "    print(\"Crops which require greater than average\", conditions,'\\n')\n",
        "    print(data[data[conditions] > data[conditions].mean()]['label'].unique())\n",
        "    print(\"----------------------------------------------\")\n",
        "    print(\"Crops which require less than average\", conditions,'\\n')\n",
        "    print(data[data[conditions] <= data[conditions].mean()]['label'].unique())"
      ]
    },
    {
      "cell_type": "markdown",
      "metadata": {
        "id": "Z7obrniI8xGW"
      },
      "source": [
        "### Analyzing Agricultural Conditions"
      ]
    },
    {
      "cell_type": "code",
      "execution_count": null,
      "metadata": {
        "colab": {
          "base_uri": "https://localhost:8080/",
          "height": 787
        },
        "id": "YQB-1_px8xGX",
        "outputId": "7e2b106d-09cc-49c3-aa0b-f256a5dfa5a1"
      },
      "outputs": [
        {
          "output_type": "stream",
          "name": "stderr",
          "text": [
            "/usr/local/lib/python3.8/dist-packages/seaborn/distributions.py:2619: FutureWarning: `distplot` is a deprecated function and will be removed in a future version. Please adapt your code to use either `displot` (a figure-level function with similar flexibility) or `histplot` (an axes-level function for histograms).\n",
            "  warnings.warn(msg, FutureWarning)\n",
            "/usr/local/lib/python3.8/dist-packages/seaborn/distributions.py:2619: FutureWarning: `distplot` is a deprecated function and will be removed in a future version. Please adapt your code to use either `displot` (a figure-level function with similar flexibility) or `histplot` (an axes-level function for histograms).\n",
            "  warnings.warn(msg, FutureWarning)\n",
            "/usr/local/lib/python3.8/dist-packages/seaborn/distributions.py:2619: FutureWarning: `distplot` is a deprecated function and will be removed in a future version. Please adapt your code to use either `displot` (a figure-level function with similar flexibility) or `histplot` (an axes-level function for histograms).\n",
            "  warnings.warn(msg, FutureWarning)\n",
            "/usr/local/lib/python3.8/dist-packages/seaborn/distributions.py:2619: FutureWarning: `distplot` is a deprecated function and will be removed in a future version. Please adapt your code to use either `displot` (a figure-level function with similar flexibility) or `histplot` (an axes-level function for histograms).\n",
            "  warnings.warn(msg, FutureWarning)\n",
            "/usr/local/lib/python3.8/dist-packages/seaborn/distributions.py:2619: FutureWarning: `distplot` is a deprecated function and will be removed in a future version. Please adapt your code to use either `displot` (a figure-level function with similar flexibility) or `histplot` (an axes-level function for histograms).\n",
            "  warnings.warn(msg, FutureWarning)\n",
            "/usr/local/lib/python3.8/dist-packages/seaborn/distributions.py:2619: FutureWarning: `distplot` is a deprecated function and will be removed in a future version. Please adapt your code to use either `displot` (a figure-level function with similar flexibility) or `histplot` (an axes-level function for histograms).\n",
            "  warnings.warn(msg, FutureWarning)\n",
            "/usr/local/lib/python3.8/dist-packages/seaborn/distributions.py:2619: FutureWarning: `distplot` is a deprecated function and will be removed in a future version. Please adapt your code to use either `displot` (a figure-level function with similar flexibility) or `histplot` (an axes-level function for histograms).\n",
            "  warnings.warn(msg, FutureWarning)\n"
          ]
        },
        {
          "output_type": "display_data",
          "data": {
            "text/plain": [
              "<Figure size 1080x504 with 7 Axes>"
            ],
            "image/png": "[encoded data removed]"
          },
          "metadata": {}
        }
      ],
      "source": [
        "### Lets check the distribution of Agricultural Conditions\n",
        "\n",
        "plt.rcParams['figure.figsize'] = (15, 7)\n",
        "\n",
        "# 2 rows, 4 cols -> 8\n",
        "\n",
        "plt.subplot(2, 4, 1)\n",
        "sns.distplot(data['N'], color = 'lightgrey')\n",
        "plt.xlabel('Ratio of Nitrogen', fontsize = 12)\n",
        "plt.grid()\n",
        "\n",
        "plt.subplot(2, 4, 2)\n",
        "sns.distplot(data['P'], color = 'skyblue')\n",
        "plt.xlabel('Ratio of Phosphorous', fontsize = 12)\n",
        "plt.grid()\n",
        "\n",
        "plt.subplot(2, 4, 3)\n",
        "sns.distplot(data['K'], color ='darkblue')\n",
        "plt.xlabel('Ratio of Potassium', fontsize = 12)\n",
        "plt.grid()\n",
        "\n",
        "plt.subplot(2, 4, 4)\n",
        "sns.distplot(data['temperature'], color = 'black')\n",
        "plt.xlabel('Temperature', fontsize = 12)\n",
        "plt.grid()\n",
        "\n",
        "plt.subplot(2, 4, 5)\n",
        "sns.distplot(data['rainfall'], color = 'grey')\n",
        "plt.xlabel('Rainfall', fontsize = 12)\n",
        "plt.grid()\n",
        "\n",
        "plt.subplot(2, 4, 6)\n",
        "sns.distplot(data['humidity'], color = 'lightgreen')\n",
        "plt.xlabel('Humidity', fontsize = 12)\n",
        "plt.grid()\n",
        "\n",
        "plt.subplot(2, 4, 7)\n",
        "sns.distplot(data['ph'], color = 'darkgreen')\n",
        "plt.xlabel('pH Level', fontsize = 12)\n",
        "plt.grid()\n",
        "\n",
        "plt.suptitle('Distribution for Agricultural Conditions', fontsize = 20)\n",
        "plt.show()\n"
      ]
    },
    {
      "cell_type": "code",
      "execution_count": null,
      "metadata": {
        "id": "WzFPzVTa8xGb",
        "outputId": "3be9f98e-08bf-4010-dff4-707cb5da2107"
      },
      "outputs": [
        {
          "name": "stdout",
          "output_type": "stream",
          "text": [
            "Some Interesting Patterns\n",
            "---------------------------------\n",
            "Crops which requires very High Ratio of Nitrogen Content in Soil: ['cotton']\n",
            "Crops which requires very High Ratio of Phosphorous Content in Soil: ['grapes' 'apple']\n",
            "Crops which requires very High Ratio of Potassium Content in Soil: ['grapes' 'apple']\n",
            "Crops which requires very High Rainfall: ['rice' 'papaya' 'coconut']\n",
            "Crops which requires very Low Temperature : ['grapes']\n",
            "Crops which requires very High Temperature : ['grapes' 'papaya']\n",
            "Crops which requires very Low Humidity: ['chickpea' 'kidneybeans']\n",
            "Crops which requires very Low pH: ['mothbeans']\n",
            "Crops which requires very High pH: ['mothbeans']\n"
          ]
        }
      ],
      "source": [
        "## Lets find out some Interesting Facts\n",
        "\n",
        "print(\"Some Interesting Patterns\")\n",
        "print(\"---------------------------------\")\n",
        "print(\"Crops which requires very High Ratio of Nitrogen Content in Soil:\", data[data['N'] > 120]['label'].unique())\n",
        "print(\"Crops which requires very High Ratio of Phosphorous Content in Soil:\", data[data['P'] > 100]['label'].unique())\n",
        "print(\"Crops which requires very High Ratio of Potassium Content in Soil:\", data[data['K'] > 200]['label'].unique())\n",
        "print(\"Crops which requires very High Rainfall:\", data[data['rainfall'] > 200]['label'].unique())\n",
        "print(\"Crops which requires very Low Temperature :\", data[data['temperature'] < 10]['label'].unique())\n",
        "print(\"Crops which requires very High Temperature :\", data[data['temperature'] > 40]['label'].unique())\n",
        "print(\"Crops which requires very Low Humidity:\", data[data['humidity'] < 20]['label'].unique())\n",
        "print(\"Crops which requires very Low pH:\", data[data['ph'] < 4]['label'].unique())\n",
        "print(\"Crops which requires very High pH:\", data[data['ph'] > 9]['label'].unique())"
      ]
    },
    {
      "cell_type": "code",
      "execution_count": null,
      "metadata": {
        "colab": {
          "base_uri": "https://localhost:8080/"
        },
        "id": "x-dryE3c8xGc",
        "outputId": "0d00ac08-f9a4-4840-f441-7fa17b7a0e12"
      },
      "outputs": [
        {
          "output_type": "stream",
          "name": "stdout",
          "text": [
            "Summer Crops\n",
            "['pigeonpeas' 'mothbeans' 'blackgram' 'mango' 'grapes' 'orange' 'papaya']\n",
            "-----------------------------------\n",
            "Winter Crops\n",
            "['maize' 'pigeonpeas' 'lentil' 'pomegranate' 'grapes' 'orange']\n",
            "-----------------------------------\n",
            "Rainy Crops\n",
            "['rice' 'papaya' 'coconut']\n"
          ]
        }
      ],
      "source": [
        "### Lets understand which crops can only be Grown in Summer Season, Winter Season and Rainy Season\n",
        "\n",
        "print(\"Summer Crops\")\n",
        "print(data[(data['temperature'] > 30) & (data['humidity'] > 50)]['label'].unique())\n",
        "print(\"-----------------------------------\")\n",
        "print(\"Winter Crops\")\n",
        "print(data[(data['temperature'] < 20) & (data['humidity'] > 30)]['label'].unique())\n",
        "print(\"-----------------------------------\")\n",
        "print(\"Rainy Crops\")\n",
        "print(data[(data['rainfall'] > 200) & (data['humidity'] > 30)]['label'].unique())"
      ]
    },
    {
      "cell_type": "markdown",
      "metadata": {
        "id": "lU3qaHSx8xGd"
      },
      "source": [
        "### Clustering Similar Crops"
      ]
    },
    {
      "cell_type": "code",
      "execution_count": null,
      "metadata": {
        "colab": {
          "base_uri": "https://localhost:8080/"
        },
        "id": "fWFcEB_z8xGg",
        "outputId": "bb13f3bf-ddbd-4091-c006-8f919895418f"
      },
      "outputs": [
        {
          "output_type": "stream",
          "name": "stdout",
          "text": [
            "(2200, 7)\n"
          ]
        }
      ],
      "source": [
        "### Lets try to Cluster these Crops\n",
        "\n",
        "# lets import the warnings library so that we can avoid warnings\n",
        "# import warnings\n",
        "# warnings.filterwarnings('ignore')\n",
        "\n",
        "# Lets select the Spending score, and Annual Income Columns from the Data\n",
        "x = data.loc[:, ['N','P','K','temperature','ph','humidity','rainfall']]\n",
        "\n",
        "# let's check the shape of x\n",
        "print(x.shape)\n",
        "\n",
        "# # lets convert this data into a dataframe\n",
        "# x_data  = pd.DataFrame(x)\n",
        "# x_data.head()"
      ]
    },
    {
      "cell_type": "code",
      "execution_count": null,
      "metadata": {
        "colab": {
          "base_uri": "https://localhost:8080/",
          "height": 325
        },
        "id": "T3TXAJSb8xGh",
        "outputId": "e6ef1c61-4720-45d7-8a44-6ea1cf824b36"
      },
      "outputs": [
        {
          "output_type": "display_data",
          "data": {
            "text/plain": [
              "<Figure size 720x288 with 1 Axes>"
            ],
            "image/png": "[encoded data removed]"
          },
          "metadata": {}
        }
      ],
      "source": [
        "# lets determine the Optimum Number of Clusters within the Dataset\n",
        "\n",
        "# KMeans clustering - Unsupervised ML algorithm\n",
        "from sklearn.cluster import KMeans\n",
        "plt.rcParams['figure.figsize'] = (10, 4)\n",
        "\n",
        "wcss = []\n",
        "for i in range(1, 11):\n",
        "    km = KMeans(n_clusters = i, init = 'k-means++', max_iter = 300, n_init = 10, random_state = 0)\n",
        "    km.fit(x)\n",
        "    wcss.append(km.inertia_)\n",
        "\n",
        "# lets plot the results\n",
        "plt.plot(range(1, 11), wcss)\n",
        "plt.title('The Elbow Method', fontsize = 20)\n",
        "plt.xlabel('No. of Clusters')\n",
        "plt.ylabel('wcss')\n",
        "plt.show()"
      ]
    },
    {
      "cell_type": "code",
      "execution_count": null,
      "metadata": {
        "colab": {
          "base_uri": "https://localhost:8080/"
        },
        "id": "I20_WpEu8xGi",
        "outputId": "916d058c-34ef-4519-d32d-2d20000f3931"
      },
      "outputs": [
        {
          "output_type": "stream",
          "name": "stdout",
          "text": [
            "[3 3 3 ... 3 1 3]\n"
          ]
        }
      ],
      "source": [
        "# lets implement the K Means algorithm to perform Clustering analysis\n",
        "km = KMeans(n_clusters = 4, init = 'k-means++', max_iter = 300, n_init = 10, random_state = 0)\n",
        "km.fit(x)\n",
        "clusters = km.predict(x)\n",
        "print(clusters) # 0,1,2,3"
      ]
    },
    {
      "cell_type": "code",
      "source": [
        "# lets find out the Results\n",
        "a = data['label']\n",
        "y_means = pd.DataFrame({'cluster' : clusters})\n",
        "z = pd.concat([y_means, a], axis = 1)\n",
        "z.head()"
      ],
      "metadata": {
        "colab": {
          "base_uri": "https://localhost:8080/",
          "height": 206
        },
        "id": "P4y1GdJtKMTs",
        "outputId": "b44a3612-6ee7-4d5e-bca9-5dcf5635f0d6"
      },
      "execution_count": null,
      "outputs": [
        {
          "output_type": "execute_result",
          "data": {
            "text/plain": [
              "   cluster label\n",
              "0        3  rice\n",
              "1        3  rice\n",
              "2        3  rice\n",
              "3        3  rice\n",
              "4        3  rice"
            ],
            "text/html": [
              "\n",
              "  <div id=\"df-4bcdc7c5-92a7-4f89-93de-99d726f08064\">\n",
              "    <div class=\"colab-df-container\">\n",
              "      <div>\n",
              "<style scoped>\n",
              "    .dataframe tbody tr th:only-of-type {\n",
              "        vertical-align: middle;\n",
              "    }\n",
              "\n",
              "    .dataframe tbody tr th {\n",
              "        vertical-align: top;\n",
              "    }\n",
              "\n",
              "    .dataframe thead th {\n",
              "        text-align: right;\n",
              "    }\n",
              "</style>\n",
              "<table border=\"1\" class=\"dataframe\">\n",
              "  <thead>\n",
              "    <tr style=\"text-align: right;\">\n",
              "      <th></th>\n",
              "      <th>cluster</th>\n",
              "      <th>label</th>\n",
              "    </tr>\n",
              "  </thead>\n",
              "  <tbody>\n",
              "    <tr>\n",
              "      <th>0</th>\n",
              "      <td>3</td>\n",
              "      <td>rice</td>\n",
              "    </tr>\n",
              "    <tr>\n",
              "      <th>1</th>\n",
              "      <td>3</td>\n",
              "      <td>rice</td>\n",
              "    </tr>\n",
              "    <tr>\n",
              "      <th>2</th>\n",
              "      <td>3</td>\n",
              "      <td>rice</td>\n",
              "    </tr>\n",
              "    <tr>\n",
              "      <th>3</th>\n",
              "      <td>3</td>\n",
              "      <td>rice</td>\n",
              "    </tr>\n",
              "    <tr>\n",
              "      <th>4</th>\n",
              "      <td>3</td>\n",
              "      <td>rice</td>\n",
              "    </tr>\n",
              "  </tbody>\n",
              "</table>\n",
              "</div>\n",
              "      <button class=\"colab-df-convert\" onclick=\"convertToInteractive('df-4bcdc7c5-92a7-4f89-93de-99d726f08064')\"\n",
              "              title=\"Convert this dataframe to an interactive table.\"\n",
              "              style=\"display:none;\">\n",
              "        \n",
              "  <svg xmlns=\"http://www.w3.org/2000/svg\" height=\"24px\"viewBox=\"0 0 24 24\"\n",
              "       width=\"24px\">\n",
              "    <path d=\"M0 0h24v24H0V0z\" fill=\"none\"/>\n",
              "    <path d=\"M18.56 5.44l.94 2.06.94-2.06 2.06-.94-2.06-.94-.94-2.06-.94 2.06-2.06.94zm-11 1L8.5 8.5l.94-2.06 2.06-.94-2.06-.94L8.5 2.5l-.94 2.06-2.06.94zm10 10l.94 2.06.94-2.06 2.06-.94-2.06-.94-.94-2.06-.94 2.06-2.06.94z\"/><path d=\"M17.41 7.96l-1.37-1.37c-.4-.4-.92-.59-1.43-.59-.52 0-1.04.2-1.43.59L10.3 9.45l-7.72 7.72c-.78.78-.78 2.05 0 2.83L4 21.41c.39.39.9.59 1.41.59.51 0 1.02-.2 1.41-.59l7.78-7.78 2.81-2.81c.8-.78.8-2.07 0-2.86zM5.41 20L4 18.59l7.72-7.72 1.47 1.35L5.41 20z\"/>\n",
              "  </svg>\n",
              "      </button>\n",
              "      \n",
              "  <style>\n",
              "    .colab-df-container {\n",
              "      display:flex;\n",
              "      flex-wrap:wrap;\n",
              "      gap: 12px;\n",
              "    }\n",
              "\n",
              "    .colab-df-convert {\n",
              "      background-color: #E8F0FE;\n",
              "      border: none;\n",
              "      border-radius: 50%;\n",
              "      cursor: pointer;\n",
              "      display: none;\n",
              "      fill: #1967D2;\n",
              "      height: 32px;\n",
              "      padding: 0 0 0 0;\n",
              "      width: 32px;\n",
              "    }\n",
              "\n",
              "    .colab-df-convert:hover {\n",
              "      background-color: #E2EBFA;\n",
              "      box-shadow: 0px 1px 2px rgba(60, 64, 67, 0.3), 0px 1px 3px 1px rgba(60, 64, 67, 0.15);\n",
              "      fill: #174EA6;\n",
              "    }\n",
              "\n",
              "    [theme=dark] .colab-df-convert {\n",
              "      background-color: #3B4455;\n",
              "      fill: #D2E3FC;\n",
              "    }\n",
              "\n",
              "    [theme=dark] .colab-df-convert:hover {\n",
              "      background-color: #434B5C;\n",
              "      box-shadow: 0px 1px 3px 1px rgba(0, 0, 0, 0.15);\n",
              "      filter: drop-shadow(0px 1px 2px rgba(0, 0, 0, 0.3));\n",
              "      fill: #FFFFFF;\n",
              "    }\n",
              "  </style>\n",
              "\n",
              "      <script>\n",
              "        const buttonEl =\n",
              "          document.querySelector('#df-4bcdc7c5-92a7-4f89-93de-99d726f08064 button.colab-df-convert');\n",
              "        buttonEl.style.display =\n",
              "          google.colab.kernel.accessAllowed ? 'block' : 'none';\n",
              "\n",
              "        async function convertToInteractive(key) {\n",
              "          const element = document.querySelector('#df-4bcdc7c5-92a7-4f89-93de-99d726f08064');\n",
              "          const dataTable =\n",
              "            await google.colab.kernel.invokeFunction('convertToInteractive',\n",
              "                                                     [key], {});\n",
              "          if (!dataTable) return;\n",
              "\n",
              "          const docLinkHtml = 'Like what you see? Visit the ' +\n",
              "            '<a target=\"_blank\" href=https://colab.research.google.com/notebooks/data_table.ipynb>data table notebook</a>'\n",
              "            + ' to learn more about interactive tables.';\n",
              "          element.innerHTML = '';\n",
              "          dataTable['output_type'] = 'display_data';\n",
              "          await google.colab.output.renderOutput(dataTable, element);\n",
              "          const docLink = document.createElement('div');\n",
              "          docLink.innerHTML = docLinkHtml;\n",
              "          element.appendChild(docLink);\n",
              "        }\n",
              "      </script>\n",
              "    </div>\n",
              "  </div>\n",
              "  "
            ]
          },
          "metadata": {},
          "execution_count": 39
        }
      ]
    },
    {
      "cell_type": "code",
      "source": [
        "# lets check the Clusters of each Crops\n",
        "print(\"Lets check the Results After Applying the K Means Clustering Analysis \\n\")\n",
        "print(\"Crops in First Cluster:\", z[z['cluster'] == 0]['label'].unique())\n",
        "print(\"---------------------------------------------------------------\")\n",
        "print(\"Crops in Second Cluster:\", z[z['cluster'] == 1]['label'].unique())\n",
        "print(\"---------------------------------------------------------------\")\n",
        "print(\"Crops in Third Cluster:\", z[z['cluster'] == 2]['label'].unique())\n",
        "print(\"---------------------------------------------------------------\")\n",
        "print(\"Crops in Forth Cluster:\", z[z['cluster'] == 3]['label'].unique())"
      ],
      "metadata": {
        "colab": {
          "base_uri": "https://localhost:8080/"
        },
        "id": "u9i-TRUmKoCA",
        "outputId": "d9d3df7a-b334-4773-9b14-c616989a9575"
      },
      "execution_count": null,
      "outputs": [
        {
          "output_type": "stream",
          "name": "stdout",
          "text": [
            "Lets check the Results After Applying the K Means Clustering Analysis \n",
            "\n",
            "Crops in First Cluster: ['maize' 'chickpea' 'kidneybeans' 'pigeonpeas' 'mothbeans' 'mungbean'\n",
            " 'blackgram' 'lentil' 'pomegranate' 'mango' 'orange' 'papaya' 'coconut']\n",
            "---------------------------------------------------------------\n",
            "Crops in Second Cluster: ['maize' 'banana' 'watermelon' 'muskmelon' 'papaya' 'cotton' 'coffee']\n",
            "---------------------------------------------------------------\n",
            "Crops in Third Cluster: ['grapes' 'apple']\n",
            "---------------------------------------------------------------\n",
            "Crops in Forth Cluster: ['rice' 'pigeonpeas' 'papaya' 'coconut' 'jute' 'coffee']\n"
          ]
        }
      ]
    },
    {
      "cell_type": "code",
      "source": [
        "value_counts = z[z['cluster'] == 0]['label'].value_counts()\n",
        "index = value_counts.index\n",
        "index[np.where(value_counts > 50)[0]]"
      ],
      "metadata": {
        "colab": {
          "base_uri": "https://localhost:8080/"
        },
        "id": "1PP0T7LILUXl",
        "outputId": "faf54eb8-680d-4ddc-f9c4-8ef7ac5e3590"
      },
      "execution_count": null,
      "outputs": [
        {
          "output_type": "execute_result",
          "data": {
            "text/plain": [
              "Index(['chickpea', 'kidneybeans', 'mothbeans', 'mungbean', 'blackgram',\n",
              "       'lentil', 'pomegranate', 'mango', 'orange'],\n",
              "      dtype='object')"
            ]
          },
          "metadata": {},
          "execution_count": 48
        }
      ]
    },
    {
      "cell_type": "code",
      "execution_count": null,
      "metadata": {
        "colab": {
          "base_uri": "https://localhost:8080/"
        },
        "id": "EKu0XLBR8xGj",
        "outputId": "179d40d9-b760-40ab-f87c-b9aa3ddf20a1"
      },
      "outputs": [
        {
          "output_type": "stream",
          "name": "stdout",
          "text": [
            "Results for Hard Clustering\n",
            "\n",
            "Crops in Cluster 1: ['chickpea', 'kidneybeans', 'mothbeans', 'mungbean', 'blackgram', 'lentil', 'pomegranate', 'mango', 'orange']\n",
            "--------------------------------------------------\n",
            "Crops in Cluster 2: ['maize', 'banana', 'watermelon', 'muskmelon', 'cotton']\n",
            "--------------------------------------------------\n",
            "Crops in Cluster 3: ['grapes', 'apple']\n",
            "--------------------------------------------------\n",
            "Crops in Cluster 4: ['rice', 'pigeonpeas', 'papaya', 'coconut', 'jute', 'coffee']\n"
          ]
        }
      ],
      "source": [
        "# Hard Clustering\n",
        "\n",
        "print(\"Results for Hard Clustering\\n\")\n",
        "counts = z[z['cluster'] == 0]['label'].value_counts()\n",
        "d = z.loc[z['label'].isin(counts.index[counts >= 50])]\n",
        "d = d['label'].value_counts()\n",
        "print(\"Crops in Cluster 1:\", list(d.index))\n",
        "print(\"--------------------------------------------------\")\n",
        "counts = z[z['cluster'] == 1]['label'].value_counts()\n",
        "d = z.loc[z['label'].isin(counts.index[counts >= 50])]\n",
        "d = d['label'].value_counts()\n",
        "print(\"Crops in Cluster 2:\", list(d.index))\n",
        "print(\"--------------------------------------------------\")\n",
        "counts = z[z['cluster'] == 2]['label'].value_counts()\n",
        "d = z.loc[z['label'].isin(counts.index[counts >= 50])]\n",
        "d = d['label'].value_counts()\n",
        "print(\"Crops in Cluster 3:\", list(d.index))\n",
        "print(\"--------------------------------------------------\")\n",
        "counts = z[z['cluster'] == 3]['label'].value_counts()\n",
        "d = z.loc[z['label'].isin(counts.index[counts >= 50])]\n",
        "d = d['label'].value_counts()\n",
        "print(\"Crops in Cluster 4:\", list(d.index))"
      ]
    },
    {
      "cell_type": "markdown",
      "metadata": {
        "id": "8rCdkw9D8xGk"
      },
      "source": [
        "### visualizing the Hidden Patterns"
      ]
    },
    {
      "cell_type": "code",
      "execution_count": null,
      "metadata": {
        "id": "cHbLppyI8xGk",
        "outputId": "152eb609-ca57-466e-a13c-c59f08d6f076"
      },
      "outputs": [
        {
          "data": {
            "image/png": "[encoded data removed]",
            "text/plain": [
              "<Figure size 1080x576 with 7 Axes>"
            ]
          },
          "metadata": {},
          "output_type": "display_data"
        }
      ],
      "source": [
        "### Data Visualizations\n",
        "\n",
        "plt.rcParams['figure.figsize'] = (15, 8)\n",
        "\n",
        "plt.subplot(2, 4, 1)\n",
        "sns.barplot(data['N'], data['label'])\n",
        "plt.ylabel(' ')\n",
        "plt.xlabel('Ratio of Nitrogen', fontsize = 10)\n",
        "plt.yticks(fontsize = 10)\n",
        "\n",
        "plt.subplot(2, 4, 2)\n",
        "sns.barplot(data['P'], data['label'])\n",
        "plt.ylabel(' ')\n",
        "plt.xlabel('Ratio of Phosphorous', fontsize = 10)\n",
        "plt.yticks(fontsize = 10)\n",
        "\n",
        "plt.subplot(2, 4, 3)\n",
        "sns.barplot(data['K'], data['label'])\n",
        "plt.ylabel(' ')\n",
        "plt.xlabel('Ratio of Potassium', fontsize = 10)\n",
        "plt.yticks(fontsize = 10)\n",
        "\n",
        "plt.subplot(2, 4, 4)\n",
        "sns.barplot(data['temperature'], data['label'])\n",
        "plt.ylabel(' ')\n",
        "plt.xlabel('Temperature', fontsize = 10)\n",
        "plt.yticks(fontsize = 10)\n",
        "\n",
        "plt.subplot(2, 4, 5)\n",
        "sns.barplot(data['humidity'], data['label'])\n",
        "plt.ylabel(' ')\n",
        "plt.xlabel('Humidity', fontsize = 10)\n",
        "plt.yticks(fontsize = 10)\n",
        "\n",
        "plt.subplot(2, 4, 6)\n",
        "sns.barplot(data['ph'], data['label'])\n",
        "plt.ylabel(' ')\n",
        "plt.xlabel('pH of Soil', fontsize = 10)\n",
        "plt.yticks(fontsize = 10)\n",
        "\n",
        "plt.subplot(2, 4, 7)\n",
        "sns.barplot(data['rainfall'], data['label'])\n",
        "plt.ylabel(' ')\n",
        "plt.xlabel('Rainfall', fontsize = 10)\n",
        "plt.yticks(fontsize = 10)\n",
        "\n",
        "plt.suptitle('Visualizing the Impact of Different Conditions on Crops', fontsize = 15)\n",
        "plt.show()"
      ]
    },
    {
      "cell_type": "markdown",
      "metadata": {
        "id": "EHH0Cmne8xGl"
      },
      "source": [
        "### Predictive Modelling"
      ]
    },
    {
      "cell_type": "code",
      "execution_count": null,
      "metadata": {
        "id": "JEExdnjp8xGl",
        "outputId": "388243eb-6633-44cb-d887-3fa1553828fb"
      },
      "outputs": [
        {
          "name": "stdout",
          "output_type": "stream",
          "text": [
            "Shape of x: (2200, 7)\n",
            "Shape of y: (2200,)\n"
          ]
        }
      ],
      "source": [
        "# lets split the Dataset for Predictive Modelling\n",
        "\n",
        "y = data['label']\n",
        "x = data.drop(['label'], axis = 1)\n",
        "\n",
        "print(\"Shape of x:\", x.shape)\n",
        "print(\"Shape of y:\", y.shape)"
      ]
    },
    {
      "cell_type": "code",
      "execution_count": null,
      "metadata": {
        "id": "VnRsSynh8xGm",
        "outputId": "84b5749f-a411-4931-ded9-0234c699c604"
      },
      "outputs": [
        {
          "name": "stdout",
          "output_type": "stream",
          "text": [
            "The Shape of x train: (1760, 7)\n",
            "The Shape of x test: (440, 7)\n",
            "The Shape of y train: (1760,)\n",
            "The Shape of y test: (440,)\n"
          ]
        }
      ],
      "source": [
        "# lets create Training and Testing Sets for Validation of Results\n",
        "from sklearn.model_selection import train_test_split\n",
        "\n",
        "x_train, x_test, y_train, y_test = train_test_split(x, y, test_size = 0.2, random_state = 0)\n",
        "\n",
        "print(\"The Shape of x train:\", x_train.shape)\n",
        "print(\"The Shape of x test:\", x_test.shape)\n",
        "print(\"The Shape of y train:\", y_train.shape)\n",
        "print(\"The Shape of y test:\", y_test.shape)"
      ]
    },
    {
      "cell_type": "code",
      "execution_count": null,
      "metadata": {
        "id": "q3OqilmG8xGm"
      },
      "outputs": [],
      "source": [
        "# lets create a Predictive Model\n",
        "\n",
        "from sklearn.linear_model import LogisticRegression\n",
        "\n",
        "model = LogisticRegression()\n",
        "model.fit(x_train, y_train)\n",
        "y_pred = model.predict(x_test)"
      ]
    },
    {
      "cell_type": "code",
      "execution_count": null,
      "metadata": {
        "id": "GzMlfyUy8xGn",
        "outputId": "8779d37a-70c0-495e-a65f-7f47cd4a0088"
      },
      "outputs": [
        {
          "data": {
            "image/png": "[encoded data removed]",
            "text/plain": [
              "<Figure size 720x720 with 2 Axes>"
            ]
          },
          "metadata": {
            "needs_background": "light"
          },
          "output_type": "display_data"
        },
        {
          "name": "stdout",
          "output_type": "stream",
          "text": [
            "              precision    recall  f1-score   support\n",
            "\n",
            "       apple       1.00      1.00      1.00        18\n",
            "      banana       1.00      1.00      1.00        18\n",
            "   blackgram       0.86      0.82      0.84        22\n",
            "    chickpea       1.00      1.00      1.00        23\n",
            "     coconut       1.00      1.00      1.00        15\n",
            "      coffee       1.00      1.00      1.00        17\n",
            "      cotton       0.89      1.00      0.94        16\n",
            "      grapes       1.00      1.00      1.00        18\n",
            "        jute       0.84      1.00      0.91        21\n",
            " kidneybeans       1.00      1.00      1.00        20\n",
            "      lentil       0.94      0.94      0.94        17\n",
            "       maize       0.94      0.89      0.91        18\n",
            "       mango       1.00      1.00      1.00        21\n",
            "   mothbeans       0.88      0.92      0.90        25\n",
            "    mungbean       1.00      1.00      1.00        17\n",
            "   muskmelon       1.00      1.00      1.00        23\n",
            "      orange       1.00      1.00      1.00        23\n",
            "      papaya       1.00      0.95      0.98        21\n",
            "  pigeonpeas       1.00      1.00      1.00        22\n",
            " pomegranate       1.00      1.00      1.00        23\n",
            "        rice       1.00      0.84      0.91        25\n",
            "  watermelon       1.00      1.00      1.00        17\n",
            "\n",
            "    accuracy                           0.97       440\n",
            "   macro avg       0.97      0.97      0.97       440\n",
            "weighted avg       0.97      0.97      0.97       440\n",
            "\n"
          ]
        }
      ],
      "source": [
        "# lets evaluate the Model Performance\n",
        "from sklearn.metrics import classification_report, confusion_matrix\n",
        "\n",
        "# lets print the Confusion matrix first\n",
        "plt.rcParams['figure.figsize'] = (10, 10)\n",
        "cm = confusion_matrix(y_test, y_pred)\n",
        "sns.heatmap(cm, annot = True, cmap = 'Wistia')\n",
        "plt.title('Confusion Matrix for Logistic Regression', fontsize = 15)\n",
        "plt.show()\n",
        "\n",
        "# lets print the Classification Report also\n",
        "cr = classification_report(y_test, y_pred)\n",
        "print(cr)"
      ]
    },
    {
      "cell_type": "markdown",
      "metadata": {
        "id": "tyolrybO8xGo"
      },
      "source": [
        "### Real time Predictions"
      ]
    },
    {
      "cell_type": "code",
      "execution_count": null,
      "metadata": {
        "id": "qCuJcXB48xGo",
        "outputId": "5568646e-3206-4b6b-8db6-e6371ab25f07"
      },
      "outputs": [
        {
          "data": {
            "text/html": [
              "<div>\n",
              "<style scoped>\n",
              "    .dataframe tbody tr th:only-of-type {\n",
              "        vertical-align: middle;\n",
              "    }\n",
              "\n",
              "    .dataframe tbody tr th {\n",
              "        vertical-align: top;\n",
              "    }\n",
              "\n",
              "    .dataframe thead th {\n",
              "        text-align: right;\n",
              "    }\n",
              "</style>\n",
              "<table border=\"1\" class=\"dataframe\">\n",
              "  <thead>\n",
              "    <tr style=\"text-align: right;\">\n",
              "      <th></th>\n",
              "      <th>N</th>\n",
              "      <th>P</th>\n",
              "      <th>K</th>\n",
              "      <th>temperature</th>\n",
              "      <th>humidity</th>\n",
              "      <th>ph</th>\n",
              "      <th>rainfall</th>\n",
              "      <th>label</th>\n",
              "    </tr>\n",
              "  </thead>\n",
              "  <tbody>\n",
              "    <tr>\n",
              "      <th>0</th>\n",
              "      <td>90</td>\n",
              "      <td>42</td>\n",
              "      <td>43</td>\n",
              "      <td>20.879744</td>\n",
              "      <td>82.002744</td>\n",
              "      <td>6.502985</td>\n",
              "      <td>202.935536</td>\n",
              "      <td>rice</td>\n",
              "    </tr>\n",
              "    <tr>\n",
              "      <th>1</th>\n",
              "      <td>85</td>\n",
              "      <td>58</td>\n",
              "      <td>41</td>\n",
              "      <td>21.770462</td>\n",
              "      <td>80.319644</td>\n",
              "      <td>7.038096</td>\n",
              "      <td>226.655537</td>\n",
              "      <td>rice</td>\n",
              "    </tr>\n",
              "    <tr>\n",
              "      <th>2</th>\n",
              "      <td>60</td>\n",
              "      <td>55</td>\n",
              "      <td>44</td>\n",
              "      <td>23.004459</td>\n",
              "      <td>82.320763</td>\n",
              "      <td>7.840207</td>\n",
              "      <td>263.964248</td>\n",
              "      <td>rice</td>\n",
              "    </tr>\n",
              "    <tr>\n",
              "      <th>3</th>\n",
              "      <td>74</td>\n",
              "      <td>35</td>\n",
              "      <td>40</td>\n",
              "      <td>26.491096</td>\n",
              "      <td>80.158363</td>\n",
              "      <td>6.980401</td>\n",
              "      <td>242.864034</td>\n",
              "      <td>rice</td>\n",
              "    </tr>\n",
              "    <tr>\n",
              "      <th>4</th>\n",
              "      <td>78</td>\n",
              "      <td>42</td>\n",
              "      <td>42</td>\n",
              "      <td>20.130175</td>\n",
              "      <td>81.604873</td>\n",
              "      <td>7.628473</td>\n",
              "      <td>262.717340</td>\n",
              "      <td>rice</td>\n",
              "    </tr>\n",
              "  </tbody>\n",
              "</table>\n",
              "</div>"
            ],
            "text/plain": [
              "    N   P   K  temperature   humidity        ph    rainfall label\n",
              "0  90  42  43    20.879744  82.002744  6.502985  202.935536  rice\n",
              "1  85  58  41    21.770462  80.319644  7.038096  226.655537  rice\n",
              "2  60  55  44    23.004459  82.320763  7.840207  263.964248  rice\n",
              "3  74  35  40    26.491096  80.158363  6.980401  242.864034  rice\n",
              "4  78  42  42    20.130175  81.604873  7.628473  262.717340  rice"
            ]
          },
          "execution_count": 23,
          "metadata": {},
          "output_type": "execute_result"
        }
      ],
      "source": [
        "# lets chech the Head of the Dataset\n",
        "data.head()"
      ]
    },
    {
      "cell_type": "code",
      "execution_count": null,
      "metadata": {
        "id": "8f4XHV3U8xGp",
        "outputId": "15fbeae9-0a72-460c-9b41-547483e1999f"
      },
      "outputs": [
        {
          "name": "stdout",
          "output_type": "stream",
          "text": [
            "The Suggested Crop for Given Climatic Condition is : ['rice']\n"
          ]
        }
      ],
      "source": [
        "prediction = model.predict((np.array([[90,\n",
        "                                       40,\n",
        "                                       40,\n",
        "                                       20,\n",
        "                                       80,\n",
        "                                       7,\n",
        "                                       200]])))\n",
        "print(\"The Suggested Crop for Given Climatic Condition is :\", prediction)"
      ]
    },
    {
      "cell_type": "code",
      "execution_count": null,
      "metadata": {
        "id": "KeJojjEU8xGp",
        "outputId": "3dad1dfa-3b74-48c1-f8de-c0d47c93b9f8"
      },
      "outputs": [
        {
          "data": {
            "text/html": [
              "<div>\n",
              "<style scoped>\n",
              "    .dataframe tbody tr th:only-of-type {\n",
              "        vertical-align: middle;\n",
              "    }\n",
              "\n",
              "    .dataframe tbody tr th {\n",
              "        vertical-align: top;\n",
              "    }\n",
              "\n",
              "    .dataframe thead th {\n",
              "        text-align: right;\n",
              "    }\n",
              "</style>\n",
              "<table border=\"1\" class=\"dataframe\">\n",
              "  <thead>\n",
              "    <tr style=\"text-align: right;\">\n",
              "      <th></th>\n",
              "      <th>N</th>\n",
              "      <th>P</th>\n",
              "      <th>K</th>\n",
              "      <th>temperature</th>\n",
              "      <th>humidity</th>\n",
              "      <th>ph</th>\n",
              "      <th>rainfall</th>\n",
              "      <th>label</th>\n",
              "    </tr>\n",
              "  </thead>\n",
              "  <tbody>\n",
              "    <tr>\n",
              "      <th>1600</th>\n",
              "      <td>22</td>\n",
              "      <td>30</td>\n",
              "      <td>12</td>\n",
              "      <td>15.781442</td>\n",
              "      <td>92.510777</td>\n",
              "      <td>6.354007</td>\n",
              "      <td>119.035002</td>\n",
              "      <td>orange</td>\n",
              "    </tr>\n",
              "    <tr>\n",
              "      <th>1601</th>\n",
              "      <td>37</td>\n",
              "      <td>6</td>\n",
              "      <td>13</td>\n",
              "      <td>26.030973</td>\n",
              "      <td>91.508193</td>\n",
              "      <td>7.511755</td>\n",
              "      <td>101.284774</td>\n",
              "      <td>orange</td>\n",
              "    </tr>\n",
              "    <tr>\n",
              "      <th>1602</th>\n",
              "      <td>27</td>\n",
              "      <td>13</td>\n",
              "      <td>6</td>\n",
              "      <td>13.360506</td>\n",
              "      <td>91.356082</td>\n",
              "      <td>7.335158</td>\n",
              "      <td>111.226688</td>\n",
              "      <td>orange</td>\n",
              "    </tr>\n",
              "    <tr>\n",
              "      <th>1603</th>\n",
              "      <td>7</td>\n",
              "      <td>16</td>\n",
              "      <td>9</td>\n",
              "      <td>18.879577</td>\n",
              "      <td>92.043045</td>\n",
              "      <td>7.813917</td>\n",
              "      <td>114.665951</td>\n",
              "      <td>orange</td>\n",
              "    </tr>\n",
              "    <tr>\n",
              "      <th>1604</th>\n",
              "      <td>20</td>\n",
              "      <td>7</td>\n",
              "      <td>9</td>\n",
              "      <td>29.477417</td>\n",
              "      <td>91.578029</td>\n",
              "      <td>7.129137</td>\n",
              "      <td>111.172750</td>\n",
              "      <td>orange</td>\n",
              "    </tr>\n",
              "  </tbody>\n",
              "</table>\n",
              "</div>"
            ],
            "text/plain": [
              "       N   P   K  temperature   humidity        ph    rainfall   label\n",
              "1600  22  30  12    15.781442  92.510777  6.354007  119.035002  orange\n",
              "1601  37   6  13    26.030973  91.508193  7.511755  101.284774  orange\n",
              "1602  27  13   6    13.360506  91.356082  7.335158  111.226688  orange\n",
              "1603   7  16   9    18.879577  92.043045  7.813917  114.665951  orange\n",
              "1604  20   7   9    29.477417  91.578029  7.129137  111.172750  orange"
            ]
          },
          "execution_count": 25,
          "metadata": {},
          "output_type": "execute_result"
        }
      ],
      "source": [
        "# lets check the Model for Oranges also\n",
        "data[data['label'] == 'orange'].head()"
      ]
    },
    {
      "cell_type": "code",
      "execution_count": null,
      "metadata": {
        "id": "2XXnOgww8xGp",
        "outputId": "e8dda6ca-424b-4e66-a46d-7543bc2554a7"
      },
      "outputs": [
        {
          "name": "stdout",
          "output_type": "stream",
          "text": [
            "The Suggested Crop for Given Climatic Condition is : ['orange']\n"
          ]
        }
      ],
      "source": [
        "# lets do some Real time Predictions\n",
        "prediction = model.predict((np.array([[20,\n",
        "                                       30,\n",
        "                                       10,\n",
        "                                       15,\n",
        "                                       90,\n",
        "                                       7.5,\n",
        "                                       100]])))\n",
        "print(\"The Suggested Crop for Given Climatic Condition is :\", prediction)"
      ]
    }
  ],
  "metadata": {
    "kernelspec": {
      "display_name": "Python 3",
      "language": "python",
      "name": "python3"
    },
    "language_info": {
      "codemirror_mode": {
        "name": "ipython",
        "version": 3
      },
      "file_extension": ".py",
      "mimetype": "text/x-python",
      "name": "python",
      "nbconvert_exporter": "python",
      "pygments_lexer": "ipython3",
      "version": "3.6.8"
    },
    "colab": {
      "provenance": []
    },
    "widgets": {
      "application/vnd.jupyter.widget-state+json": {
        "22c85d3b8c7b4575a398ca32178018cf": {
          "model_module": "@jupyter-widgets/controls",
          "model_name": "VBoxModel",
          "model_module_version": "1.5.0",
          "state": {
            "_dom_classes": [
              "widget-interact"
            ],
            "_model_module": "@jupyter-widgets/controls",
            "_model_module_version": "1.5.0",
            "_model_name": "VBoxModel",
            "_view_count": null,
            "_view_module": "@jupyter-widgets/controls",
            "_view_module_version": "1.5.0",
            "_view_name": "VBoxView",
            "box_style": "",
            "children": [
              "IPY_MODEL_7e7df85532ef4fa096ac48613d823bc5",
              "IPY_MODEL_395aa2f7035a4620838ae91307e1f8e5"
            ],
            "layout": "IPY_MODEL_d3b3f51586034dd2bb550693cdab9750"
          }
        },
        "7e7df85532ef4fa096ac48613d823bc5": {
          "model_module": "@jupyter-widgets/controls",
          "model_name": "DropdownModel",
          "model_module_version": "1.5.0",
          "state": {
            "_dom_classes": [],
            "_model_module": "@jupyter-widgets/controls",
            "_model_module_version": "1.5.0",
            "_model_name": "DropdownModel",
            "_options_labels": [
              "rice",
              "maize",
              "chickpea",
              "kidneybeans",
              "pigeonpeas",
              "mothbeans",
              "mungbean",
              "blackgram",
              "lentil",
              "pomegranate",
              "banana",
              "mango",
              "grapes",
              "watermelon",
              "muskmelon",
              "apple",
              "orange",
              "papaya",
              "coconut",
              "cotton",
              "jute",
              "coffee"
            ],
            "_view_count": null,
            "_view_module": "@jupyter-widgets/controls",
            "_view_module_version": "1.5.0",
            "_view_name": "DropdownView",
            "description": "crops",
            "description_tooltip": null,
            "disabled": false,
            "index": 1,
            "layout": "IPY_MODEL_913dbd49de8b444c9553d3843a816d98",
            "style": "IPY_MODEL_8fabb2aed32348c796497ee5129abd6f"
          }
        },
        "395aa2f7035a4620838ae91307e1f8e5": {
          "model_module": "@jupyter-widgets/output",
          "model_name": "OutputModel",
          "model_module_version": "1.0.0",
          "state": {
            "_dom_classes": [],
            "_model_module": "@jupyter-widgets/output",
            "_model_module_version": "1.0.0",
            "_model_name": "OutputModel",
            "_view_count": null,
            "_view_module": "@jupyter-widgets/output",
            "_view_module_version": "1.0.0",
            "_view_name": "OutputView",
            "layout": "IPY_MODEL_15d8f9a37193410baa420dcfa0c6609e",
            "msg_id": "",
            "outputs": [
              {
                "output_type": "stream",
                "name": "stdout",
                "text": [
                  "---------------------------------------------\n",
                  "Statistics for Nitrogen\n",
                  "Minimum Nitrigen required : 60\n",
                  "Average Nitrogen required : 77.76\n",
                  "Maximum Nitrogen required : 100\n",
                  "---------------------------------------------\n",
                  "Statistics for Phosphorous\n",
                  "Minimum Phosphorous required : 35\n",
                  "Average Phosphorous required : 48.44\n",
                  "Maximum Phosphorous required : 60\n",
                  "---------------------------------------------\n",
                  "Statistics for Potassium\n",
                  "Minimum Potassium required : 15\n",
                  "Average Potassium required : 19.79\n",
                  "Maximum Potassium required : 25\n",
                  "---------------------------------------------\n",
                  "Statistics for Temperature\n",
                  "Minimum Temperature required : 18.04\n",
                  "Average Temperature required : 22.39\n",
                  "Maximum Temperature required : 26.55\n",
                  "---------------------------------------------\n",
                  "Statistics for Humidity\n",
                  "Minimum Humidity required : 55.28\n",
                  "Average Humidity required : 65.09\n",
                  "Maximum Humidity required : 74.83\n",
                  "---------------------------------------------\n",
                  "Statistics for PH\n",
                  "Minimum PH required : 5.51\n",
                  "Average PH required : 6.25\n",
                  "Maximum PH required : 7.00\n",
                  "---------------------------------------------\n",
                  "Statistics for Rainfall\n",
                  "Minimum Rainfall required : 60.65\n",
                  "Average Rainfall required : 84.77\n",
                  "Maximum Rainfall required : 109.75\n"
                ]
              }
            ]
          }
        },
        "d3b3f51586034dd2bb550693cdab9750": {
          "model_module": "@jupyter-widgets/base",
          "model_name": "LayoutModel",
          "model_module_version": "1.2.0",
          "state": {
            "_model_module": "@jupyter-widgets/base",
            "_model_module_version": "1.2.0",
            "_model_name": "LayoutModel",
            "_view_count": null,
            "_view_module": "@jupyter-widgets/base",
            "_view_module_version": "1.2.0",
            "_view_name": "LayoutView",
            "align_content": null,
            "align_items": null,
            "align_self": null,
            "border": null,
            "bottom": null,
            "display": null,
            "flex": null,
            "flex_flow": null,
            "grid_area": null,
            "grid_auto_columns": null,
            "grid_auto_flow": null,
            "grid_auto_rows": null,
            "grid_column": null,
            "grid_gap": null,
            "grid_row": null,
            "grid_template_areas": null,
            "grid_template_columns": null,
            "grid_template_rows": null,
            "height": null,
            "justify_content": null,
            "justify_items": null,
            "left": null,
            "margin": null,
            "max_height": null,
            "max_width": null,
            "min_height": null,
            "min_width": null,
            "object_fit": null,
            "object_position": null,
            "order": null,
            "overflow": null,
            "overflow_x": null,
            "overflow_y": null,
            "padding": null,
            "right": null,
            "top": null,
            "visibility": null,
            "width": null
          }
        },
        "913dbd49de8b444c9553d3843a816d98": {
          "model_module": "@jupyter-widgets/base",
          "model_name": "LayoutModel",
          "model_module_version": "1.2.0",
          "state": {
            "_model_module": "@jupyter-widgets/base",
            "_model_module_version": "1.2.0",
            "_model_name": "LayoutModel",
            "_view_count": null,
            "_view_module": "@jupyter-widgets/base",
            "_view_module_version": "1.2.0",
            "_view_name": "LayoutView",
            "align_content": null,
            "align_items": null,
            "align_self": null,
            "border": null,
            "bottom": null,
            "display": null,
            "flex": null,
            "flex_flow": null,
            "grid_area": null,
            "grid_auto_columns": null,
            "grid_auto_flow": null,
            "grid_auto_rows": null,
            "grid_column": null,
            "grid_gap": null,
            "grid_row": null,
            "grid_template_areas": null,
            "grid_template_columns": null,
            "grid_template_rows": null,
            "height": null,
            "justify_content": null,
            "justify_items": null,
            "left": null,
            "margin": null,
            "max_height": null,
            "max_width": null,
            "min_height": null,
            "min_width": null,
            "object_fit": null,
            "object_position": null,
            "order": null,
            "overflow": null,
            "overflow_x": null,
            "overflow_y": null,
            "padding": null,
            "right": null,
            "top": null,
            "visibility": null,
            "width": null
          }
        },
        "8fabb2aed32348c796497ee5129abd6f": {
          "model_module": "@jupyter-widgets/controls",
          "model_name": "DescriptionStyleModel",
          "model_module_version": "1.5.0",
          "state": {
            "_model_module": "@jupyter-widgets/controls",
            "_model_module_version": "1.5.0",
            "_model_name": "DescriptionStyleModel",
            "_view_count": null,
            "_view_module": "@jupyter-widgets/base",
            "_view_module_version": "1.2.0",
            "_view_name": "StyleView",
            "description_width": ""
          }
        },
        "15d8f9a37193410baa420dcfa0c6609e": {
          "model_module": "@jupyter-widgets/base",
          "model_name": "LayoutModel",
          "model_module_version": "1.2.0",
          "state": {
            "_model_module": "@jupyter-widgets/base",
            "_model_module_version": "1.2.0",
            "_model_name": "LayoutModel",
            "_view_count": null,
            "_view_module": "@jupyter-widgets/base",
            "_view_module_version": "1.2.0",
            "_view_name": "LayoutView",
            "align_content": null,
            "align_items": null,
            "align_self": null,
            "border": null,
            "bottom": null,
            "display": null,
            "flex": null,
            "flex_flow": null,
            "grid_area": null,
            "grid_auto_columns": null,
            "grid_auto_flow": null,
            "grid_auto_rows": null,
            "grid_column": null,
            "grid_gap": null,
            "grid_row": null,
            "grid_template_areas": null,
            "grid_template_columns": null,
            "grid_template_rows": null,
            "height": null,
            "justify_content": null,
            "justify_items": null,
            "left": null,
            "margin": null,
            "max_height": null,
            "max_width": null,
            "min_height": null,
            "min_width": null,
            "object_fit": null,
            "object_position": null,
            "order": null,
            "overflow": null,
            "overflow_x": null,
            "overflow_y": null,
            "padding": null,
            "right": null,
            "top": null,
            "visibility": null,
            "width": null
          }
        },
        "5acdbae975ba47ea9999a6834a5aba00": {
          "model_module": "@jupyter-widgets/controls",
          "model_name": "VBoxModel",
          "model_module_version": "1.5.0",
          "state": {
            "_dom_classes": [
              "widget-interact"
            ],
            "_model_module": "@jupyter-widgets/controls",
            "_model_module_version": "1.5.0",
            "_model_name": "VBoxModel",
            "_view_count": null,
            "_view_module": "@jupyter-widgets/controls",
            "_view_module_version": "1.5.0",
            "_view_name": "VBoxView",
            "box_style": "",
            "children": [
              "IPY_MODEL_e7417c5625c2465ba02414abd68b02f8",
              "IPY_MODEL_4eedf631e96c416f9264ab48f958b781"
            ],
            "layout": "IPY_MODEL_c2349f031ed541b198881f0437c8446d"
          }
        },
        "e7417c5625c2465ba02414abd68b02f8": {
          "model_module": "@jupyter-widgets/controls",
          "model_name": "DropdownModel",
          "model_module_version": "1.5.0",
          "state": {
            "_dom_classes": [],
            "_model_module": "@jupyter-widgets/controls",
            "_model_module_version": "1.5.0",
            "_model_name": "DropdownModel",
            "_options_labels": [
              "N",
              "P",
              "K",
              "temperature",
              "ph",
              "humidity",
              "rainfall"
            ],
            "_view_count": null,
            "_view_module": "@jupyter-widgets/controls",
            "_view_module_version": "1.5.0",
            "_view_name": "DropdownView",
            "description": "conditions",
            "description_tooltip": null,
            "disabled": false,
            "index": 0,
            "layout": "IPY_MODEL_1bd182db47a14514b6b2d00a7f2d937a",
            "style": "IPY_MODEL_4cfb6886b2db490d954a89102f0e6aa3"
          }
        },
        "4eedf631e96c416f9264ab48f958b781": {
          "model_module": "@jupyter-widgets/output",
          "model_name": "OutputModel",
          "model_module_version": "1.0.0",
          "state": {
            "_dom_classes": [],
            "_model_module": "@jupyter-widgets/output",
            "_model_module_version": "1.0.0",
            "_model_name": "OutputModel",
            "_view_count": null,
            "_view_module": "@jupyter-widgets/output",
            "_view_module_version": "1.0.0",
            "_view_name": "OutputView",
            "layout": "IPY_MODEL_838015f7981146a79350fffdf6d08876",
            "msg_id": "",
            "outputs": [
              {
                "output_type": "stream",
                "name": "stdout",
                "text": [
                  "Average Value for N is 50.55\n",
                  "----------------------------------------------\n",
                  "Rice : 79.89\n",
                  "Black Grams : 40.02\n",
                  "Banana : 100.23\n",
                  "Jute : 78.40\n",
                  "Coconut : 21.98\n",
                  "Apple : 20.80\n",
                  "Papaya : 49.88\n",
                  "Muskmelon : 100.32\n",
                  "Grapes : 23.18\n",
                  "Watermelon : 99.42\n",
                  "Kidney Beans: 20.75\n",
                  "Mung Beans : 20.99\n",
                  "Oranges : 19.58\n",
                  "Chick Peas : 40.09\n",
                  "Lentils : 18.77\n",
                  "Cotton : 117.77\n",
                  "Maize : 77.76\n",
                  "Moth Beans : 21.44\n",
                  "Pigeon Peas : 20.73\n",
                  "Mango : 20.07\n",
                  "Pomegranate : 18.87\n",
                  "Coffee : 101.20\n"
                ]
              }
            ]
          }
        },
        "c2349f031ed541b198881f0437c8446d": {
          "model_module": "@jupyter-widgets/base",
          "model_name": "LayoutModel",
          "model_module_version": "1.2.0",
          "state": {
            "_model_module": "@jupyter-widgets/base",
            "_model_module_version": "1.2.0",
            "_model_name": "LayoutModel",
            "_view_count": null,
            "_view_module": "@jupyter-widgets/base",
            "_view_module_version": "1.2.0",
            "_view_name": "LayoutView",
            "align_content": null,
            "align_items": null,
            "align_self": null,
            "border": null,
            "bottom": null,
            "display": null,
            "flex": null,
            "flex_flow": null,
            "grid_area": null,
            "grid_auto_columns": null,
            "grid_auto_flow": null,
            "grid_auto_rows": null,
            "grid_column": null,
            "grid_gap": null,
            "grid_row": null,
            "grid_template_areas": null,
            "grid_template_columns": null,
            "grid_template_rows": null,
            "height": null,
            "justify_content": null,
            "justify_items": null,
            "left": null,
            "margin": null,
            "max_height": null,
            "max_width": null,
            "min_height": null,
            "min_width": null,
            "object_fit": null,
            "object_position": null,
            "order": null,
            "overflow": null,
            "overflow_x": null,
            "overflow_y": null,
            "padding": null,
            "right": null,
            "top": null,
            "visibility": null,
            "width": null
          }
        },
        "1bd182db47a14514b6b2d00a7f2d937a": {
          "model_module": "@jupyter-widgets/base",
          "model_name": "LayoutModel",
          "model_module_version": "1.2.0",
          "state": {
            "_model_module": "@jupyter-widgets/base",
            "_model_module_version": "1.2.0",
            "_model_name": "LayoutModel",
            "_view_count": null,
            "_view_module": "@jupyter-widgets/base",
            "_view_module_version": "1.2.0",
            "_view_name": "LayoutView",
            "align_content": null,
            "align_items": null,
            "align_self": null,
            "border": null,
            "bottom": null,
            "display": null,
            "flex": null,
            "flex_flow": null,
            "grid_area": null,
            "grid_auto_columns": null,
            "grid_auto_flow": null,
            "grid_auto_rows": null,
            "grid_column": null,
            "grid_gap": null,
            "grid_row": null,
            "grid_template_areas": null,
            "grid_template_columns": null,
            "grid_template_rows": null,
            "height": null,
            "justify_content": null,
            "justify_items": null,
            "left": null,
            "margin": null,
            "max_height": null,
            "max_width": null,
            "min_height": null,
            "min_width": null,
            "object_fit": null,
            "object_position": null,
            "order": null,
            "overflow": null,
            "overflow_x": null,
            "overflow_y": null,
            "padding": null,
            "right": null,
            "top": null,
            "visibility": null,
            "width": null
          }
        },
        "4cfb6886b2db490d954a89102f0e6aa3": {
          "model_module": "@jupyter-widgets/controls",
          "model_name": "DescriptionStyleModel",
          "model_module_version": "1.5.0",
          "state": {
            "_model_module": "@jupyter-widgets/controls",
            "_model_module_version": "1.5.0",
            "_model_name": "DescriptionStyleModel",
            "_view_count": null,
            "_view_module": "@jupyter-widgets/base",
            "_view_module_version": "1.2.0",
            "_view_name": "StyleView",
            "description_width": ""
          }
        },
        "838015f7981146a79350fffdf6d08876": {
          "model_module": "@jupyter-widgets/base",
          "model_name": "LayoutModel",
          "model_module_version": "1.2.0",
          "state": {
            "_model_module": "@jupyter-widgets/base",
            "_model_module_version": "1.2.0",
            "_model_name": "LayoutModel",
            "_view_count": null,
            "_view_module": "@jupyter-widgets/base",
            "_view_module_version": "1.2.0",
            "_view_name": "LayoutView",
            "align_content": null,
            "align_items": null,
            "align_self": null,
            "border": null,
            "bottom": null,
            "display": null,
            "flex": null,
            "flex_flow": null,
            "grid_area": null,
            "grid_auto_columns": null,
            "grid_auto_flow": null,
            "grid_auto_rows": null,
            "grid_column": null,
            "grid_gap": null,
            "grid_row": null,
            "grid_template_areas": null,
            "grid_template_columns": null,
            "grid_template_rows": null,
            "height": null,
            "justify_content": null,
            "justify_items": null,
            "left": null,
            "margin": null,
            "max_height": null,
            "max_width": null,
            "min_height": null,
            "min_width": null,
            "object_fit": null,
            "object_position": null,
            "order": null,
            "overflow": null,
            "overflow_x": null,
            "overflow_y": null,
            "padding": null,
            "right": null,
            "top": null,
            "visibility": null,
            "width": null
          }
        },
        "e56c111ba5fe4228a63b37615a508891": {
          "model_module": "@jupyter-widgets/controls",
          "model_name": "VBoxModel",
          "model_module_version": "1.5.0",
          "state": {
            "_dom_classes": [
              "widget-interact"
            ],
            "_model_module": "@jupyter-widgets/controls",
            "_model_module_version": "1.5.0",
            "_model_name": "VBoxModel",
            "_view_count": null,
            "_view_module": "@jupyter-widgets/controls",
            "_view_module_version": "1.5.0",
            "_view_name": "VBoxView",
            "box_style": "",
            "children": [
              "IPY_MODEL_dfd81e83008640e4bb416a979d56de34",
              "IPY_MODEL_0e823582ccea48abb41117a945c735bd"
            ],
            "layout": "IPY_MODEL_8e5dd106ea5a4662ab277e8e7b4e5df4"
          }
        },
        "dfd81e83008640e4bb416a979d56de34": {
          "model_module": "@jupyter-widgets/controls",
          "model_name": "DropdownModel",
          "model_module_version": "1.5.0",
          "state": {
            "_dom_classes": [],
            "_model_module": "@jupyter-widgets/controls",
            "_model_module_version": "1.5.0",
            "_model_name": "DropdownModel",
            "_options_labels": [
              "N",
              "P",
              "K",
              "temperature",
              "ph",
              "humidity",
              "rainfall"
            ],
            "_view_count": null,
            "_view_module": "@jupyter-widgets/controls",
            "_view_module_version": "1.5.0",
            "_view_name": "DropdownView",
            "description": "conditions",
            "description_tooltip": null,
            "disabled": false,
            "index": 2,
            "layout": "IPY_MODEL_82af4e39996841ceaa08f07f185e6eef",
            "style": "IPY_MODEL_7b0d38c955394c38ab6a4ff9f052f375"
          }
        },
        "0e823582ccea48abb41117a945c735bd": {
          "model_module": "@jupyter-widgets/output",
          "model_name": "OutputModel",
          "model_module_version": "1.0.0",
          "state": {
            "_dom_classes": [],
            "_model_module": "@jupyter-widgets/output",
            "_model_module_version": "1.0.0",
            "_model_name": "OutputModel",
            "_view_count": null,
            "_view_module": "@jupyter-widgets/output",
            "_view_module_version": "1.0.0",
            "_view_name": "OutputView",
            "layout": "IPY_MODEL_e6852212ed1541478288d249b095d292",
            "msg_id": "",
            "outputs": [
              {
                "output_type": "stream",
                "name": "stdout",
                "text": [
                  "Crops which require greater than average K \n",
                  "\n",
                  "['chickpea' 'banana' 'grapes' 'watermelon' 'muskmelon' 'apple' 'papaya']\n",
                  "----------------------------------------------\n",
                  "Crops which require less than average K \n",
                  "\n",
                  "['rice' 'maize' 'kidneybeans' 'pigeonpeas' 'mothbeans' 'mungbean'\n",
                  " 'blackgram' 'lentil' 'pomegranate' 'banana' 'mango' 'watermelon'\n",
                  " 'muskmelon' 'orange' 'papaya' 'coconut' 'cotton' 'jute' 'coffee']\n"
                ]
              }
            ]
          }
        },
        "8e5dd106ea5a4662ab277e8e7b4e5df4": {
          "model_module": "@jupyter-widgets/base",
          "model_name": "LayoutModel",
          "model_module_version": "1.2.0",
          "state": {
            "_model_module": "@jupyter-widgets/base",
            "_model_module_version": "1.2.0",
            "_model_name": "LayoutModel",
            "_view_count": null,
            "_view_module": "@jupyter-widgets/base",
            "_view_module_version": "1.2.0",
            "_view_name": "LayoutView",
            "align_content": null,
            "align_items": null,
            "align_self": null,
            "border": null,
            "bottom": null,
            "display": null,
            "flex": null,
            "flex_flow": null,
            "grid_area": null,
            "grid_auto_columns": null,
            "grid_auto_flow": null,
            "grid_auto_rows": null,
            "grid_column": null,
            "grid_gap": null,
            "grid_row": null,
            "grid_template_areas": null,
            "grid_template_columns": null,
            "grid_template_rows": null,
            "height": null,
            "justify_content": null,
            "justify_items": null,
            "left": null,
            "margin": null,
            "max_height": null,
            "max_width": null,
            "min_height": null,
            "min_width": null,
            "object_fit": null,
            "object_position": null,
            "order": null,
            "overflow": null,
            "overflow_x": null,
            "overflow_y": null,
            "padding": null,
            "right": null,
            "top": null,
            "visibility": null,
            "width": null
          }
        },
        "82af4e39996841ceaa08f07f185e6eef": {
          "model_module": "@jupyter-widgets/base",
          "model_name": "LayoutModel",
          "model_module_version": "1.2.0",
          "state": {
            "_model_module": "@jupyter-widgets/base",
            "_model_module_version": "1.2.0",
            "_model_name": "LayoutModel",
            "_view_count": null,
            "_view_module": "@jupyter-widgets/base",
            "_view_module_version": "1.2.0",
            "_view_name": "LayoutView",
            "align_content": null,
            "align_items": null,
            "align_self": null,
            "border": null,
            "bottom": null,
            "display": null,
            "flex": null,
            "flex_flow": null,
            "grid_area": null,
            "grid_auto_columns": null,
            "grid_auto_flow": null,
            "grid_auto_rows": null,
            "grid_column": null,
            "grid_gap": null,
            "grid_row": null,
            "grid_template_areas": null,
            "grid_template_columns": null,
            "grid_template_rows": null,
            "height": null,
            "justify_content": null,
            "justify_items": null,
            "left": null,
            "margin": null,
            "max_height": null,
            "max_width": null,
            "min_height": null,
            "min_width": null,
            "object_fit": null,
            "object_position": null,
            "order": null,
            "overflow": null,
            "overflow_x": null,
            "overflow_y": null,
            "padding": null,
            "right": null,
            "top": null,
            "visibility": null,
            "width": null
          }
        },
        "7b0d38c955394c38ab6a4ff9f052f375": {
          "model_module": "@jupyter-widgets/controls",
          "model_name": "DescriptionStyleModel",
          "model_module_version": "1.5.0",
          "state": {
            "_model_module": "@jupyter-widgets/controls",
            "_model_module_version": "1.5.0",
            "_model_name": "DescriptionStyleModel",
            "_view_count": null,
            "_view_module": "@jupyter-widgets/base",
            "_view_module_version": "1.2.0",
            "_view_name": "StyleView",
            "description_width": ""
          }
        },
        "e6852212ed1541478288d249b095d292": {
          "model_module": "@jupyter-widgets/base",
          "model_name": "LayoutModel",
          "model_module_version": "1.2.0",
          "state": {
            "_model_module": "@jupyter-widgets/base",
            "_model_module_version": "1.2.0",
            "_model_name": "LayoutModel",
            "_view_count": null,
            "_view_module": "@jupyter-widgets/base",
            "_view_module_version": "1.2.0",
            "_view_name": "LayoutView",
            "align_content": null,
            "align_items": null,
            "align_self": null,
            "border": null,
            "bottom": null,
            "display": null,
            "flex": null,
            "flex_flow": null,
            "grid_area": null,
            "grid_auto_columns": null,
            "grid_auto_flow": null,
            "grid_auto_rows": null,
            "grid_column": null,
            "grid_gap": null,
            "grid_row": null,
            "grid_template_areas": null,
            "grid_template_columns": null,
            "grid_template_rows": null,
            "height": null,
            "justify_content": null,
            "justify_items": null,
            "left": null,
            "margin": null,
            "max_height": null,
            "max_width": null,
            "min_height": null,
            "min_width": null,
            "object_fit": null,
            "object_position": null,
            "order": null,
            "overflow": null,
            "overflow_x": null,
            "overflow_y": null,
            "padding": null,
            "right": null,
            "top": null,
            "visibility": null,
            "width": null
          }
        }
      }
    }
  },
  "nbformat": 4,
  "nbformat_minor": 0
}